{
 "cells": [
  {
   "cell_type": "markdown",
   "id": "52bf1c91",
   "metadata": {},
   "source": [
    "# Problems\n",
    "***"
   ]
  },
  {
   "cell_type": "markdown",
   "id": "7a2abf97",
   "metadata": {},
   "source": [
    "This Jupyter Notebook contains the assessment for the module of Applied Statistics taught by Ian McLoughlin. This assessment is composed by 4 problems which aim to demonstrate the skills acquired within this course."
   ]
  },
  {
   "cell_type": "code",
   "execution_count": 1,
   "id": "fb4b0655",
   "metadata": {},
   "outputs": [],
   "source": [
    "# Install all required libraries\n",
    "\n",
    "\"\"\"Numerical structures and operations.\n",
    "https://numpy.org/doc/stable/reference/index.html#reference\"\"\"\n",
    "import numpy as np\n",
    "\n",
    "import scipy.stats as stats\n",
    "import statsmodels.api as sm\n",
    "\n",
    "\"\"\"Plotting.\n",
    "https://matplotlib.org/stable/contents.html\"\"\"\n",
    "import matplotlib.pyplot as plt\n",
    "\n",
    "import pandas as pd\n",
    "import seaborn as sns\n",
    "\n",
    "# From Python Standard Library:\n",
    "\n",
    "\"\"\"Mathematical functions\n",
    "https://docs.python.org/3/library/math.html\"\"\"\n",
    "import math\n",
    "\n",
    "\"\"\"Permutations and combinations \n",
    "https://docs.python.org/3/library/itertools.html\"\"\"\n",
    "import itertools\n",
    "\n",
    "\"\"\"Random selections\n",
    "https://docs.python.org/3/library/random.html\"\"\"\n",
    "import random\n",
    "\n",
    "\n",
    "\n",
    "# import sympy as sp\n",
    "# from nose import with_setup, tools\n",
    "# from sklearn import datasets\n",
    "# from qiskit import QuantumCircuit, transpile, assemble, Aer, execute\n",
    "# from qiskit.visualization import plot_histogram\n",
    "# import yfinance as yf"
   ]
  },
  {
   "cell_type": "markdown",
   "id": "713f4134",
   "metadata": {},
   "source": [
    "## Problem 1: Extending the Lady Tasting Tea\n"
   ]
  },
  {
   "cell_type": "markdown",
   "id": "264f213c",
   "metadata": {},
   "source": [
    "The first problem is an extension of the Lady Tasting Tea experiment conducted by Ronald Fisher and reported in his book The Design of Experiment in 1935.\n",
    "Before explaining the extension of this experiment, here it is a brief introduction of the Lady Tasting Tea experiment conducted by Fisher:\n",
    "The Lady Tasting Tea experiment, designed by Fisher, tested a woman’s claim that she could tell whether milk or tea was poured first into a cup. To evaluate this, Fisher used a hypothesis testing approach: under the null hypothesis, her guesses would be random, while the alternative assumed real ability. She was given eight cups (four of each type) in random order to identify. Fisher calculated the probability of correctly identifying all by chance as 1 in 70, showing that such an outcome would provide strong evidence against the null hypothesis. This experiment became a foundational example of statistical hypothesis testing and experimental design. The following Wikipedia link was used to obtain further details of the Lady Tasting Tea experiment conducted by Fisher: [Lady Tasting tea](https://en.wikipedia.org/wiki/Lady_tasting_tea).\n",
    "\n",
    "While in the original Lady Tasting Tea experiment Fisher used 8 cups: 4 tea-first and 4 mil-first, in this extension of the Lady Tasting Tea experiment it is being adopted 12 cups: 8 tea-first and 4 milk-first. It follows the same claim where a participant says they can tell which was poured first. The experiment is simulated using numpy to randomly shuffling the cups a number of times and calculate the probability of the participat correctly identifying all cups by chance. \n",
    "Furthermore, a comparison is made between the original Lady Tasting tea experiment and this extension.\n",
    "The aim of this extension is not only to explore how changing the experimental design—from 8 cups (4 of each type) to 12 cups (8 tea-first and 4 milk-first)—affects the probability of correctly identifying all cups by chance, but also to demonstrate how statistical simulation can be implemented using Python. By employing tools such as NumPy to randomly shuffle cup arrangements and compute probabilities across multiple trials, this extension illustrates how programming can be used to replicate and analyse classical experiments. Through this process, it becomes possible to visualise and quantify how modifications in sample size or cup proportions influence the statistical evidence against the null hypothesis.\n"
   ]
  },
  {
   "cell_type": "markdown",
   "id": "5184564f",
   "metadata": {},
   "source": [
    "### Cups of Tea\n",
    "\n",
    "In order to complete this in python, we first define the variables of each group in order to keep track of the tea preparation options as well as the group containing all cups."
   ]
  },
  {
   "cell_type": "code",
   "execution_count": 2,
   "id": "a5a3eab8",
   "metadata": {},
   "outputs": [],
   "source": [
    "# Number of cups of tea in total\n",
    "all_cups = 12\n",
    "\n",
    "# Number of cups of tea with milk added first\n",
    "milk_first_cups = 4\n",
    "\n",
    "# Number of cups of tea with tea added first\n",
    "tea_first_cups = 8"
   ]
  },
  {
   "cell_type": "markdown",
   "id": "51962f84",
   "metadata": {},
   "source": [
    "### Using the function math.comb(n, k)\n",
    "\n",
    "Now we use math.comb(n, k), which is a built-in Python function (introduced in Python 3.8) that comes from the math module. The [Python Standard Library](https://docs.python.org/3/library/math.html#math.comb) documentation regarding `math.comb(n, k)` was consulted to develop the work on this section. \n",
    "\n",
    "This function calculates how many ways to choose k elements from a set of n elements. Here, order of the elements does not matter. Each element is only selected once.\n",
    "\n",
    "Behind the scenes, the function uses this formula:\n",
    "\n",
    "$$\n",
    "\\frac{n!}{k! \\times (n - k)!}\n",
    "$$"
   ]
  },
  {
   "cell_type": "code",
   "execution_count": 3,
   "id": "992d5fea",
   "metadata": {},
   "outputs": [
    {
     "data": {
      "text/plain": [
       "495"
      ]
     },
     "execution_count": 3,
     "metadata": {},
     "output_type": "execute_result"
    }
   ],
   "source": [
    "# Number of ways to choose 4 cups from 12\n",
    "ways = math.comb(all_cups, milk_first_cups)\n",
    "\n",
    "# Display the number of combinations\n",
    "ways"
   ]
  },
  {
   "cell_type": "markdown",
   "id": "66242ab5",
   "metadata": {},
   "source": [
    "#### Let’s break it down:\n",
    "- **n! (n factorial)** means multiplying all the numbers from `1` to `n`.  \n",
    "  For example, n in our case is `all_cups`, so for n! we have (12 x 11 x 10 x ... x 1).   \n",
    "  To do this in Python we will use math.factorial() function which generates the product of a positive integer and all the integers below it. The use this function, I consulted [math.factorial(n)](https://docs.python.org/3/library/math.html#math.factorial) in Python Standard Library."
   ]
  },
  {
   "cell_type": "code",
   "execution_count": 4,
   "id": "8b0bfeb2",
   "metadata": {},
   "outputs": [
    {
     "data": {
      "text/plain": [
       "479001600"
      ]
     },
     "execution_count": 4,
     "metadata": {},
     "output_type": "execute_result"
    }
   ],
   "source": [
    "# n!\n",
    "n_fact= math.factorial(all_cups)\n",
    "\n",
    "# Display n!\n",
    "n_fact"
   ]
  },
  {
   "cell_type": "markdown",
   "id": "c6e7b534",
   "metadata": {},
   "source": [
    "- **k!** means multiplying all the numbers from `1` to `k`.\n",
    "  k in our example is milk_first_cups, so for k! we have (4 x 3 x 2 x 1).\n",
    "  Here we use math.factorial again which gives us:"
   ]
  },
  {
   "cell_type": "code",
   "execution_count": 5,
   "id": "61fd711b",
   "metadata": {},
   "outputs": [
    {
     "data": {
      "text/plain": [
       "24"
      ]
     },
     "execution_count": 5,
     "metadata": {},
     "output_type": "execute_result"
    }
   ],
   "source": [
    "# k!\n",
    "k_fact = math.factorial(milk_first_cups)\n",
    "\n",
    "# Display k!\n",
    "k_fact"
   ]
  },
  {
   "cell_type": "markdown",
   "id": "f7a67902",
   "metadata": {},
   "source": [
    "- **(n-k)!** means multiplying all the numbers from `1` to the difference between `n` and `k`:"
   ]
  },
  {
   "cell_type": "code",
   "execution_count": 6,
   "id": "4fb3d08e",
   "metadata": {},
   "outputs": [
    {
     "data": {
      "text/plain": [
       "40320"
      ]
     },
     "execution_count": 6,
     "metadata": {},
     "output_type": "execute_result"
    }
   ],
   "source": [
    "# (n-k)!\n",
    "n_k_fact = math.factorial(all_cups - milk_first_cups)\n",
    "\n",
    "# Display (n-k)!\n",
    "n_k_fact"
   ]
  },
  {
   "cell_type": "markdown",
   "id": "3443417d",
   "metadata": {},
   "source": [
    "- Replacing the values in the formula we have:\n",
    "\n",
    "  - n! = 479001600 \n",
    "  - k! = 24 \n",
    "  - (n-k)! = 40320 \n",
    "\n",
    "-  So the formula works by dividing `n!` by the product of `k!` and `(n - k)!` to find the total number of unique combinations."
   ]
  },
  {
   "cell_type": "code",
   "execution_count": 7,
   "id": "0467a56f",
   "metadata": {},
   "outputs": [
    {
     "data": {
      "text/plain": [
       "495"
      ]
     },
     "execution_count": 7,
     "metadata": {},
     "output_type": "execute_result"
    }
   ],
   "source": [
    "# Total combinations using the formula n! / (k! * (n-k)!)\n",
    "comb = n_fact // (k_fact * n_k_fact)\n",
    "\n",
    "# Display total combinations\n",
    "comb"
   ]
  },
  {
   "cell_type": "code",
   "execution_count": 8,
   "id": "1793ecfd",
   "metadata": {},
   "outputs": [
    {
     "data": {
      "text/plain": [
       "True"
      ]
     },
     "execution_count": 8,
     "metadata": {},
     "output_type": "execute_result"
    }
   ],
   "source": [
    "# Confirming both methods give the same result\n",
    "ways == comb"
   ]
  },
  {
   "cell_type": "markdown",
   "id": "e802ce2f",
   "metadata": {},
   "source": [
    "### Ordering of Results"
   ]
  },
  {
   "cell_type": "markdown",
   "id": "4de56d3e",
   "metadata": {},
   "source": [
    "Let's start by applying labels to each one of the cups:"
   ]
  },
  {
   "cell_type": "code",
   "execution_count": 9,
   "id": "66f24966",
   "metadata": {},
   "outputs": [
    {
     "data": {
      "text/plain": [
       "[0, 1, 2, 3, 4, 5, 6, 7, 8, 9, 10, 11]"
      ]
     },
     "execution_count": 9,
     "metadata": {},
     "output_type": "execute_result"
    }
   ],
   "source": [
    "# The cup labels\n",
    "labels = list (range(all_cups))\n",
    "\n",
    "# Show labels\n",
    "labels"
   ]
  },
  {
   "cell_type": "markdown",
   "id": "bef4700a",
   "metadata": {},
   "source": [
    "Now let's demonstrate the different ways of selecting milk_first_cups out of all_cups cups of tea. For this step we used [itertools.combination](https://docs.python.org/3/library/itertools.html#itertools.combinations) function from Python standard library."
   ]
  },
  {
   "cell_type": "code",
   "execution_count": 10,
   "id": "7d84d8f5",
   "metadata": {},
   "outputs": [
    {
     "data": {
      "text/plain": [
       "[(0, 1, 2, 3),\n",
       " (0, 1, 2, 4),\n",
       " (0, 1, 2, 5),\n",
       " (0, 1, 2, 6),\n",
       " (0, 1, 2, 7),\n",
       " (0, 1, 2, 8),\n",
       " (0, 1, 2, 9),\n",
       " (0, 1, 2, 10),\n",
       " (0, 1, 2, 11),\n",
       " (0, 1, 3, 4)]"
      ]
     },
     "execution_count": 10,
     "metadata": {},
     "output_type": "execute_result"
    }
   ],
   "source": [
    "# Different ways of selecting milk_first_cups out of all_cups cups of tea.\n",
    "comb_cups = list(itertools.combinations(labels, milk_first_cups))\n",
    "\n",
    "# Show.\n",
    "comb_cups[:10]  # Show only the first 10 combinations"
   ]
  },
  {
   "cell_type": "code",
   "execution_count": 11,
   "id": "f534ee9e",
   "metadata": {},
   "outputs": [
    {
     "data": {
      "text/plain": [
       "495"
      ]
     },
     "execution_count": 11,
     "metadata": {},
     "output_type": "execute_result"
    }
   ],
   "source": [
    "# Number of combinations\n",
    "len(comb_cups)"
   ]
  },
  {
   "cell_type": "code",
   "execution_count": 12,
   "id": "f63dfda0",
   "metadata": {},
   "outputs": [
    {
     "data": {
      "text/plain": [
       "[0, 6, 7, 9]"
      ]
     },
     "execution_count": 12,
     "metadata": {},
     "output_type": "execute_result"
    }
   ],
   "source": [
    "# Select four cups at random to put milk in first.\n",
    "# https://docs.python.org/3/library/random.html#random.sample\n",
    "labels_milk = random.sample(labels, 4)\n",
    "\n",
    "# Sort the selected labels for better readability\n",
    "labels_milk.sort()\n",
    "\n",
    "# Show.\n",
    "labels_milk"
   ]
  },
  {
   "cell_type": "code",
   "execution_count": 14,
   "id": "6edec329",
   "metadata": {},
   "outputs": [
    {
     "data": {
      "text/plain": [
       "{0, 6, 7, 9}"
      ]
     },
     "execution_count": 14,
     "metadata": {},
     "output_type": "execute_result"
    }
   ],
   "source": [
    "# Turn labels_milk into a set.\n",
    "# Uses: https://docs.python.org/3/tutorial/datastructures.html#sets\n",
    "set(labels_milk)"
   ]
  },
  {
   "cell_type": "code",
   "execution_count": 16,
   "id": "e98cd3d2",
   "metadata": {},
   "outputs": [
    {
     "name": "stdout",
     "output_type": "stream",
     "text": [
      "(0, 1, 2, 3) 1 {0}\n",
      "(0, 1, 2, 4) 1 {0}\n",
      "(0, 1, 2, 5) 1 {0}\n",
      "(0, 1, 2, 6) 2 {0, 6}\n",
      "(0, 1, 2, 7) 2 {0, 7}\n",
      "(0, 1, 2, 8) 1 {0}\n",
      "(0, 1, 2, 9) 2 {0, 9}\n",
      "(0, 1, 2, 10) 1 {0}\n",
      "(0, 1, 2, 11) 1 {0}\n",
      "(0, 1, 3, 4) 1 {0}\n",
      "(0, 1, 3, 5) 1 {0}\n",
      "(0, 1, 3, 6) 2 {0, 6}\n",
      "(0, 1, 3, 7) 2 {0, 7}\n",
      "(0, 1, 3, 8) 1 {0}\n",
      "(0, 1, 3, 9) 2 {0, 9}\n",
      "(0, 1, 3, 10) 1 {0}\n",
      "(0, 1, 3, 11) 1 {0}\n",
      "(0, 1, 4, 5) 1 {0}\n",
      "(0, 1, 4, 6) 2 {0, 6}\n",
      "(0, 1, 4, 7) 2 {0, 7}\n",
      "(0, 1, 4, 8) 1 {0}\n",
      "(0, 1, 4, 9) 2 {0, 9}\n",
      "(0, 1, 4, 10) 1 {0}\n",
      "(0, 1, 4, 11) 1 {0}\n",
      "(0, 1, 5, 6) 2 {0, 6}\n",
      "(0, 1, 5, 7) 2 {0, 7}\n",
      "(0, 1, 5, 8) 1 {0}\n",
      "(0, 1, 5, 9) 2 {0, 9}\n",
      "(0, 1, 5, 10) 1 {0}\n",
      "(0, 1, 5, 11) 1 {0}\n",
      "(0, 1, 6, 7) 3 {0, 6, 7}\n",
      "(0, 1, 6, 8) 2 {0, 6}\n",
      "(0, 1, 6, 9) 3 {0, 9, 6}\n",
      "(0, 1, 6, 10) 2 {0, 6}\n",
      "(0, 1, 6, 11) 2 {0, 6}\n",
      "(0, 1, 7, 8) 2 {0, 7}\n",
      "(0, 1, 7, 9) 3 {0, 9, 7}\n",
      "(0, 1, 7, 10) 2 {0, 7}\n",
      "(0, 1, 7, 11) 2 {0, 7}\n",
      "(0, 1, 8, 9) 2 {0, 9}\n",
      "(0, 1, 8, 10) 1 {0}\n",
      "(0, 1, 8, 11) 1 {0}\n",
      "(0, 1, 9, 10) 2 {0, 9}\n",
      "(0, 1, 9, 11) 2 {0, 9}\n",
      "(0, 1, 10, 11) 1 {0}\n",
      "(0, 2, 3, 4) 1 {0}\n",
      "(0, 2, 3, 5) 1 {0}\n",
      "(0, 2, 3, 6) 2 {0, 6}\n",
      "(0, 2, 3, 7) 2 {0, 7}\n",
      "(0, 2, 3, 8) 1 {0}\n",
      "(0, 2, 3, 9) 2 {0, 9}\n",
      "(0, 2, 3, 10) 1 {0}\n",
      "(0, 2, 3, 11) 1 {0}\n",
      "(0, 2, 4, 5) 1 {0}\n",
      "(0, 2, 4, 6) 2 {0, 6}\n",
      "(0, 2, 4, 7) 2 {0, 7}\n",
      "(0, 2, 4, 8) 1 {0}\n",
      "(0, 2, 4, 9) 2 {0, 9}\n",
      "(0, 2, 4, 10) 1 {0}\n",
      "(0, 2, 4, 11) 1 {0}\n",
      "(0, 2, 5, 6) 2 {0, 6}\n",
      "(0, 2, 5, 7) 2 {0, 7}\n",
      "(0, 2, 5, 8) 1 {0}\n",
      "(0, 2, 5, 9) 2 {0, 9}\n",
      "(0, 2, 5, 10) 1 {0}\n",
      "(0, 2, 5, 11) 1 {0}\n",
      "(0, 2, 6, 7) 3 {0, 6, 7}\n",
      "(0, 2, 6, 8) 2 {0, 6}\n",
      "(0, 2, 6, 9) 3 {0, 9, 6}\n",
      "(0, 2, 6, 10) 2 {0, 6}\n",
      "(0, 2, 6, 11) 2 {0, 6}\n",
      "(0, 2, 7, 8) 2 {0, 7}\n",
      "(0, 2, 7, 9) 3 {0, 9, 7}\n",
      "(0, 2, 7, 10) 2 {0, 7}\n",
      "(0, 2, 7, 11) 2 {0, 7}\n",
      "(0, 2, 8, 9) 2 {0, 9}\n",
      "(0, 2, 8, 10) 1 {0}\n",
      "(0, 2, 8, 11) 1 {0}\n",
      "(0, 2, 9, 10) 2 {0, 9}\n",
      "(0, 2, 9, 11) 2 {0, 9}\n",
      "(0, 2, 10, 11) 1 {0}\n",
      "(0, 3, 4, 5) 1 {0}\n",
      "(0, 3, 4, 6) 2 {0, 6}\n",
      "(0, 3, 4, 7) 2 {0, 7}\n",
      "(0, 3, 4, 8) 1 {0}\n",
      "(0, 3, 4, 9) 2 {0, 9}\n",
      "(0, 3, 4, 10) 1 {0}\n",
      "(0, 3, 4, 11) 1 {0}\n",
      "(0, 3, 5, 6) 2 {0, 6}\n",
      "(0, 3, 5, 7) 2 {0, 7}\n",
      "(0, 3, 5, 8) 1 {0}\n",
      "(0, 3, 5, 9) 2 {0, 9}\n",
      "(0, 3, 5, 10) 1 {0}\n",
      "(0, 3, 5, 11) 1 {0}\n",
      "(0, 3, 6, 7) 3 {0, 6, 7}\n",
      "(0, 3, 6, 8) 2 {0, 6}\n",
      "(0, 3, 6, 9) 3 {0, 9, 6}\n",
      "(0, 3, 6, 10) 2 {0, 6}\n",
      "(0, 3, 6, 11) 2 {0, 6}\n",
      "(0, 3, 7, 8) 2 {0, 7}\n",
      "(0, 3, 7, 9) 3 {0, 9, 7}\n",
      "(0, 3, 7, 10) 2 {0, 7}\n",
      "(0, 3, 7, 11) 2 {0, 7}\n",
      "(0, 3, 8, 9) 2 {0, 9}\n",
      "(0, 3, 8, 10) 1 {0}\n",
      "(0, 3, 8, 11) 1 {0}\n",
      "(0, 3, 9, 10) 2 {0, 9}\n",
      "(0, 3, 9, 11) 2 {0, 9}\n",
      "(0, 3, 10, 11) 1 {0}\n",
      "(0, 4, 5, 6) 2 {0, 6}\n",
      "(0, 4, 5, 7) 2 {0, 7}\n",
      "(0, 4, 5, 8) 1 {0}\n",
      "(0, 4, 5, 9) 2 {0, 9}\n",
      "(0, 4, 5, 10) 1 {0}\n",
      "(0, 4, 5, 11) 1 {0}\n",
      "(0, 4, 6, 7) 3 {0, 6, 7}\n",
      "(0, 4, 6, 8) 2 {0, 6}\n",
      "(0, 4, 6, 9) 3 {0, 9, 6}\n",
      "(0, 4, 6, 10) 2 {0, 6}\n",
      "(0, 4, 6, 11) 2 {0, 6}\n",
      "(0, 4, 7, 8) 2 {0, 7}\n",
      "(0, 4, 7, 9) 3 {0, 9, 7}\n",
      "(0, 4, 7, 10) 2 {0, 7}\n",
      "(0, 4, 7, 11) 2 {0, 7}\n",
      "(0, 4, 8, 9) 2 {0, 9}\n",
      "(0, 4, 8, 10) 1 {0}\n",
      "(0, 4, 8, 11) 1 {0}\n",
      "(0, 4, 9, 10) 2 {0, 9}\n",
      "(0, 4, 9, 11) 2 {0, 9}\n",
      "(0, 4, 10, 11) 1 {0}\n",
      "(0, 5, 6, 7) 3 {0, 6, 7}\n",
      "(0, 5, 6, 8) 2 {0, 6}\n",
      "(0, 5, 6, 9) 3 {0, 9, 6}\n",
      "(0, 5, 6, 10) 2 {0, 6}\n",
      "(0, 5, 6, 11) 2 {0, 6}\n",
      "(0, 5, 7, 8) 2 {0, 7}\n",
      "(0, 5, 7, 9) 3 {0, 9, 7}\n",
      "(0, 5, 7, 10) 2 {0, 7}\n",
      "(0, 5, 7, 11) 2 {0, 7}\n",
      "(0, 5, 8, 9) 2 {0, 9}\n",
      "(0, 5, 8, 10) 1 {0}\n",
      "(0, 5, 8, 11) 1 {0}\n",
      "(0, 5, 9, 10) 2 {0, 9}\n",
      "(0, 5, 9, 11) 2 {0, 9}\n",
      "(0, 5, 10, 11) 1 {0}\n",
      "(0, 6, 7, 8) 3 {0, 6, 7}\n",
      "(0, 6, 7, 9) 4 {0, 9, 6, 7}\n",
      "(0, 6, 7, 10) 3 {0, 6, 7}\n",
      "(0, 6, 7, 11) 3 {0, 6, 7}\n",
      "(0, 6, 8, 9) 3 {0, 9, 6}\n",
      "(0, 6, 8, 10) 2 {0, 6}\n",
      "(0, 6, 8, 11) 2 {0, 6}\n",
      "(0, 6, 9, 10) 3 {0, 9, 6}\n",
      "(0, 6, 9, 11) 3 {0, 9, 6}\n",
      "(0, 6, 10, 11) 2 {0, 6}\n",
      "(0, 7, 8, 9) 3 {0, 9, 7}\n",
      "(0, 7, 8, 10) 2 {0, 7}\n",
      "(0, 7, 8, 11) 2 {0, 7}\n",
      "(0, 7, 9, 10) 3 {0, 9, 7}\n",
      "(0, 7, 9, 11) 3 {0, 9, 7}\n",
      "(0, 7, 10, 11) 2 {0, 7}\n",
      "(0, 8, 9, 10) 2 {0, 9}\n",
      "(0, 8, 9, 11) 2 {0, 9}\n",
      "(0, 8, 10, 11) 1 {0}\n",
      "(0, 9, 10, 11) 2 {0, 9}\n",
      "(1, 2, 3, 4) 0 set()\n",
      "(1, 2, 3, 5) 0 set()\n",
      "(1, 2, 3, 6) 1 {6}\n",
      "(1, 2, 3, 7) 1 {7}\n",
      "(1, 2, 3, 8) 0 set()\n",
      "(1, 2, 3, 9) 1 {9}\n",
      "(1, 2, 3, 10) 0 set()\n",
      "(1, 2, 3, 11) 0 set()\n",
      "(1, 2, 4, 5) 0 set()\n",
      "(1, 2, 4, 6) 1 {6}\n",
      "(1, 2, 4, 7) 1 {7}\n",
      "(1, 2, 4, 8) 0 set()\n",
      "(1, 2, 4, 9) 1 {9}\n",
      "(1, 2, 4, 10) 0 set()\n",
      "(1, 2, 4, 11) 0 set()\n",
      "(1, 2, 5, 6) 1 {6}\n",
      "(1, 2, 5, 7) 1 {7}\n",
      "(1, 2, 5, 8) 0 set()\n",
      "(1, 2, 5, 9) 1 {9}\n",
      "(1, 2, 5, 10) 0 set()\n",
      "(1, 2, 5, 11) 0 set()\n",
      "(1, 2, 6, 7) 2 {6, 7}\n",
      "(1, 2, 6, 8) 1 {6}\n",
      "(1, 2, 6, 9) 2 {9, 6}\n",
      "(1, 2, 6, 10) 1 {6}\n",
      "(1, 2, 6, 11) 1 {6}\n",
      "(1, 2, 7, 8) 1 {7}\n",
      "(1, 2, 7, 9) 2 {9, 7}\n",
      "(1, 2, 7, 10) 1 {7}\n",
      "(1, 2, 7, 11) 1 {7}\n",
      "(1, 2, 8, 9) 1 {9}\n",
      "(1, 2, 8, 10) 0 set()\n",
      "(1, 2, 8, 11) 0 set()\n",
      "(1, 2, 9, 10) 1 {9}\n",
      "(1, 2, 9, 11) 1 {9}\n",
      "(1, 2, 10, 11) 0 set()\n",
      "(1, 3, 4, 5) 0 set()\n",
      "(1, 3, 4, 6) 1 {6}\n",
      "(1, 3, 4, 7) 1 {7}\n",
      "(1, 3, 4, 8) 0 set()\n",
      "(1, 3, 4, 9) 1 {9}\n",
      "(1, 3, 4, 10) 0 set()\n",
      "(1, 3, 4, 11) 0 set()\n",
      "(1, 3, 5, 6) 1 {6}\n",
      "(1, 3, 5, 7) 1 {7}\n",
      "(1, 3, 5, 8) 0 set()\n",
      "(1, 3, 5, 9) 1 {9}\n",
      "(1, 3, 5, 10) 0 set()\n",
      "(1, 3, 5, 11) 0 set()\n",
      "(1, 3, 6, 7) 2 {6, 7}\n",
      "(1, 3, 6, 8) 1 {6}\n",
      "(1, 3, 6, 9) 2 {9, 6}\n",
      "(1, 3, 6, 10) 1 {6}\n",
      "(1, 3, 6, 11) 1 {6}\n",
      "(1, 3, 7, 8) 1 {7}\n",
      "(1, 3, 7, 9) 2 {9, 7}\n",
      "(1, 3, 7, 10) 1 {7}\n",
      "(1, 3, 7, 11) 1 {7}\n",
      "(1, 3, 8, 9) 1 {9}\n",
      "(1, 3, 8, 10) 0 set()\n",
      "(1, 3, 8, 11) 0 set()\n",
      "(1, 3, 9, 10) 1 {9}\n",
      "(1, 3, 9, 11) 1 {9}\n",
      "(1, 3, 10, 11) 0 set()\n",
      "(1, 4, 5, 6) 1 {6}\n",
      "(1, 4, 5, 7) 1 {7}\n",
      "(1, 4, 5, 8) 0 set()\n",
      "(1, 4, 5, 9) 1 {9}\n",
      "(1, 4, 5, 10) 0 set()\n",
      "(1, 4, 5, 11) 0 set()\n",
      "(1, 4, 6, 7) 2 {6, 7}\n",
      "(1, 4, 6, 8) 1 {6}\n",
      "(1, 4, 6, 9) 2 {9, 6}\n",
      "(1, 4, 6, 10) 1 {6}\n",
      "(1, 4, 6, 11) 1 {6}\n",
      "(1, 4, 7, 8) 1 {7}\n",
      "(1, 4, 7, 9) 2 {9, 7}\n",
      "(1, 4, 7, 10) 1 {7}\n",
      "(1, 4, 7, 11) 1 {7}\n",
      "(1, 4, 8, 9) 1 {9}\n",
      "(1, 4, 8, 10) 0 set()\n",
      "(1, 4, 8, 11) 0 set()\n",
      "(1, 4, 9, 10) 1 {9}\n",
      "(1, 4, 9, 11) 1 {9}\n",
      "(1, 4, 10, 11) 0 set()\n",
      "(1, 5, 6, 7) 2 {6, 7}\n",
      "(1, 5, 6, 8) 1 {6}\n",
      "(1, 5, 6, 9) 2 {9, 6}\n",
      "(1, 5, 6, 10) 1 {6}\n",
      "(1, 5, 6, 11) 1 {6}\n",
      "(1, 5, 7, 8) 1 {7}\n",
      "(1, 5, 7, 9) 2 {9, 7}\n",
      "(1, 5, 7, 10) 1 {7}\n",
      "(1, 5, 7, 11) 1 {7}\n",
      "(1, 5, 8, 9) 1 {9}\n",
      "(1, 5, 8, 10) 0 set()\n",
      "(1, 5, 8, 11) 0 set()\n",
      "(1, 5, 9, 10) 1 {9}\n",
      "(1, 5, 9, 11) 1 {9}\n",
      "(1, 5, 10, 11) 0 set()\n",
      "(1, 6, 7, 8) 2 {6, 7}\n",
      "(1, 6, 7, 9) 3 {9, 6, 7}\n",
      "(1, 6, 7, 10) 2 {6, 7}\n",
      "(1, 6, 7, 11) 2 {6, 7}\n",
      "(1, 6, 8, 9) 2 {9, 6}\n",
      "(1, 6, 8, 10) 1 {6}\n",
      "(1, 6, 8, 11) 1 {6}\n",
      "(1, 6, 9, 10) 2 {9, 6}\n",
      "(1, 6, 9, 11) 2 {9, 6}\n",
      "(1, 6, 10, 11) 1 {6}\n",
      "(1, 7, 8, 9) 2 {9, 7}\n",
      "(1, 7, 8, 10) 1 {7}\n",
      "(1, 7, 8, 11) 1 {7}\n",
      "(1, 7, 9, 10) 2 {9, 7}\n",
      "(1, 7, 9, 11) 2 {9, 7}\n",
      "(1, 7, 10, 11) 1 {7}\n",
      "(1, 8, 9, 10) 1 {9}\n",
      "(1, 8, 9, 11) 1 {9}\n",
      "(1, 8, 10, 11) 0 set()\n",
      "(1, 9, 10, 11) 1 {9}\n",
      "(2, 3, 4, 5) 0 set()\n",
      "(2, 3, 4, 6) 1 {6}\n",
      "(2, 3, 4, 7) 1 {7}\n",
      "(2, 3, 4, 8) 0 set()\n",
      "(2, 3, 4, 9) 1 {9}\n",
      "(2, 3, 4, 10) 0 set()\n",
      "(2, 3, 4, 11) 0 set()\n",
      "(2, 3, 5, 6) 1 {6}\n",
      "(2, 3, 5, 7) 1 {7}\n",
      "(2, 3, 5, 8) 0 set()\n",
      "(2, 3, 5, 9) 1 {9}\n",
      "(2, 3, 5, 10) 0 set()\n",
      "(2, 3, 5, 11) 0 set()\n",
      "(2, 3, 6, 7) 2 {6, 7}\n",
      "(2, 3, 6, 8) 1 {6}\n",
      "(2, 3, 6, 9) 2 {9, 6}\n",
      "(2, 3, 6, 10) 1 {6}\n",
      "(2, 3, 6, 11) 1 {6}\n",
      "(2, 3, 7, 8) 1 {7}\n",
      "(2, 3, 7, 9) 2 {9, 7}\n",
      "(2, 3, 7, 10) 1 {7}\n",
      "(2, 3, 7, 11) 1 {7}\n",
      "(2, 3, 8, 9) 1 {9}\n",
      "(2, 3, 8, 10) 0 set()\n",
      "(2, 3, 8, 11) 0 set()\n",
      "(2, 3, 9, 10) 1 {9}\n",
      "(2, 3, 9, 11) 1 {9}\n",
      "(2, 3, 10, 11) 0 set()\n",
      "(2, 4, 5, 6) 1 {6}\n",
      "(2, 4, 5, 7) 1 {7}\n",
      "(2, 4, 5, 8) 0 set()\n",
      "(2, 4, 5, 9) 1 {9}\n",
      "(2, 4, 5, 10) 0 set()\n",
      "(2, 4, 5, 11) 0 set()\n",
      "(2, 4, 6, 7) 2 {6, 7}\n",
      "(2, 4, 6, 8) 1 {6}\n",
      "(2, 4, 6, 9) 2 {9, 6}\n",
      "(2, 4, 6, 10) 1 {6}\n",
      "(2, 4, 6, 11) 1 {6}\n",
      "(2, 4, 7, 8) 1 {7}\n",
      "(2, 4, 7, 9) 2 {9, 7}\n",
      "(2, 4, 7, 10) 1 {7}\n",
      "(2, 4, 7, 11) 1 {7}\n",
      "(2, 4, 8, 9) 1 {9}\n",
      "(2, 4, 8, 10) 0 set()\n",
      "(2, 4, 8, 11) 0 set()\n",
      "(2, 4, 9, 10) 1 {9}\n",
      "(2, 4, 9, 11) 1 {9}\n",
      "(2, 4, 10, 11) 0 set()\n",
      "(2, 5, 6, 7) 2 {6, 7}\n",
      "(2, 5, 6, 8) 1 {6}\n",
      "(2, 5, 6, 9) 2 {9, 6}\n",
      "(2, 5, 6, 10) 1 {6}\n",
      "(2, 5, 6, 11) 1 {6}\n",
      "(2, 5, 7, 8) 1 {7}\n",
      "(2, 5, 7, 9) 2 {9, 7}\n",
      "(2, 5, 7, 10) 1 {7}\n",
      "(2, 5, 7, 11) 1 {7}\n",
      "(2, 5, 8, 9) 1 {9}\n",
      "(2, 5, 8, 10) 0 set()\n",
      "(2, 5, 8, 11) 0 set()\n",
      "(2, 5, 9, 10) 1 {9}\n",
      "(2, 5, 9, 11) 1 {9}\n",
      "(2, 5, 10, 11) 0 set()\n",
      "(2, 6, 7, 8) 2 {6, 7}\n",
      "(2, 6, 7, 9) 3 {9, 6, 7}\n",
      "(2, 6, 7, 10) 2 {6, 7}\n",
      "(2, 6, 7, 11) 2 {6, 7}\n",
      "(2, 6, 8, 9) 2 {9, 6}\n",
      "(2, 6, 8, 10) 1 {6}\n",
      "(2, 6, 8, 11) 1 {6}\n",
      "(2, 6, 9, 10) 2 {9, 6}\n",
      "(2, 6, 9, 11) 2 {9, 6}\n",
      "(2, 6, 10, 11) 1 {6}\n",
      "(2, 7, 8, 9) 2 {9, 7}\n",
      "(2, 7, 8, 10) 1 {7}\n",
      "(2, 7, 8, 11) 1 {7}\n",
      "(2, 7, 9, 10) 2 {9, 7}\n",
      "(2, 7, 9, 11) 2 {9, 7}\n",
      "(2, 7, 10, 11) 1 {7}\n",
      "(2, 8, 9, 10) 1 {9}\n",
      "(2, 8, 9, 11) 1 {9}\n",
      "(2, 8, 10, 11) 0 set()\n",
      "(2, 9, 10, 11) 1 {9}\n",
      "(3, 4, 5, 6) 1 {6}\n",
      "(3, 4, 5, 7) 1 {7}\n",
      "(3, 4, 5, 8) 0 set()\n",
      "(3, 4, 5, 9) 1 {9}\n",
      "(3, 4, 5, 10) 0 set()\n",
      "(3, 4, 5, 11) 0 set()\n",
      "(3, 4, 6, 7) 2 {6, 7}\n",
      "(3, 4, 6, 8) 1 {6}\n",
      "(3, 4, 6, 9) 2 {9, 6}\n",
      "(3, 4, 6, 10) 1 {6}\n",
      "(3, 4, 6, 11) 1 {6}\n",
      "(3, 4, 7, 8) 1 {7}\n",
      "(3, 4, 7, 9) 2 {9, 7}\n",
      "(3, 4, 7, 10) 1 {7}\n",
      "(3, 4, 7, 11) 1 {7}\n",
      "(3, 4, 8, 9) 1 {9}\n",
      "(3, 4, 8, 10) 0 set()\n",
      "(3, 4, 8, 11) 0 set()\n",
      "(3, 4, 9, 10) 1 {9}\n",
      "(3, 4, 9, 11) 1 {9}\n",
      "(3, 4, 10, 11) 0 set()\n",
      "(3, 5, 6, 7) 2 {6, 7}\n",
      "(3, 5, 6, 8) 1 {6}\n",
      "(3, 5, 6, 9) 2 {9, 6}\n",
      "(3, 5, 6, 10) 1 {6}\n",
      "(3, 5, 6, 11) 1 {6}\n",
      "(3, 5, 7, 8) 1 {7}\n",
      "(3, 5, 7, 9) 2 {9, 7}\n",
      "(3, 5, 7, 10) 1 {7}\n",
      "(3, 5, 7, 11) 1 {7}\n",
      "(3, 5, 8, 9) 1 {9}\n",
      "(3, 5, 8, 10) 0 set()\n",
      "(3, 5, 8, 11) 0 set()\n",
      "(3, 5, 9, 10) 1 {9}\n",
      "(3, 5, 9, 11) 1 {9}\n",
      "(3, 5, 10, 11) 0 set()\n",
      "(3, 6, 7, 8) 2 {6, 7}\n",
      "(3, 6, 7, 9) 3 {9, 6, 7}\n",
      "(3, 6, 7, 10) 2 {6, 7}\n",
      "(3, 6, 7, 11) 2 {6, 7}\n",
      "(3, 6, 8, 9) 2 {9, 6}\n",
      "(3, 6, 8, 10) 1 {6}\n",
      "(3, 6, 8, 11) 1 {6}\n",
      "(3, 6, 9, 10) 2 {9, 6}\n",
      "(3, 6, 9, 11) 2 {9, 6}\n",
      "(3, 6, 10, 11) 1 {6}\n",
      "(3, 7, 8, 9) 2 {9, 7}\n",
      "(3, 7, 8, 10) 1 {7}\n",
      "(3, 7, 8, 11) 1 {7}\n",
      "(3, 7, 9, 10) 2 {9, 7}\n",
      "(3, 7, 9, 11) 2 {9, 7}\n",
      "(3, 7, 10, 11) 1 {7}\n",
      "(3, 8, 9, 10) 1 {9}\n",
      "(3, 8, 9, 11) 1 {9}\n",
      "(3, 8, 10, 11) 0 set()\n",
      "(3, 9, 10, 11) 1 {9}\n",
      "(4, 5, 6, 7) 2 {6, 7}\n",
      "(4, 5, 6, 8) 1 {6}\n",
      "(4, 5, 6, 9) 2 {9, 6}\n",
      "(4, 5, 6, 10) 1 {6}\n",
      "(4, 5, 6, 11) 1 {6}\n",
      "(4, 5, 7, 8) 1 {7}\n",
      "(4, 5, 7, 9) 2 {9, 7}\n",
      "(4, 5, 7, 10) 1 {7}\n",
      "(4, 5, 7, 11) 1 {7}\n",
      "(4, 5, 8, 9) 1 {9}\n",
      "(4, 5, 8, 10) 0 set()\n",
      "(4, 5, 8, 11) 0 set()\n",
      "(4, 5, 9, 10) 1 {9}\n",
      "(4, 5, 9, 11) 1 {9}\n",
      "(4, 5, 10, 11) 0 set()\n",
      "(4, 6, 7, 8) 2 {6, 7}\n",
      "(4, 6, 7, 9) 3 {9, 6, 7}\n",
      "(4, 6, 7, 10) 2 {6, 7}\n",
      "(4, 6, 7, 11) 2 {6, 7}\n",
      "(4, 6, 8, 9) 2 {9, 6}\n",
      "(4, 6, 8, 10) 1 {6}\n",
      "(4, 6, 8, 11) 1 {6}\n",
      "(4, 6, 9, 10) 2 {9, 6}\n",
      "(4, 6, 9, 11) 2 {9, 6}\n",
      "(4, 6, 10, 11) 1 {6}\n",
      "(4, 7, 8, 9) 2 {9, 7}\n",
      "(4, 7, 8, 10) 1 {7}\n",
      "(4, 7, 8, 11) 1 {7}\n",
      "(4, 7, 9, 10) 2 {9, 7}\n",
      "(4, 7, 9, 11) 2 {9, 7}\n",
      "(4, 7, 10, 11) 1 {7}\n",
      "(4, 8, 9, 10) 1 {9}\n",
      "(4, 8, 9, 11) 1 {9}\n",
      "(4, 8, 10, 11) 0 set()\n",
      "(4, 9, 10, 11) 1 {9}\n",
      "(5, 6, 7, 8) 2 {6, 7}\n",
      "(5, 6, 7, 9) 3 {9, 6, 7}\n",
      "(5, 6, 7, 10) 2 {6, 7}\n",
      "(5, 6, 7, 11) 2 {6, 7}\n",
      "(5, 6, 8, 9) 2 {9, 6}\n",
      "(5, 6, 8, 10) 1 {6}\n",
      "(5, 6, 8, 11) 1 {6}\n",
      "(5, 6, 9, 10) 2 {9, 6}\n",
      "(5, 6, 9, 11) 2 {9, 6}\n",
      "(5, 6, 10, 11) 1 {6}\n",
      "(5, 7, 8, 9) 2 {9, 7}\n",
      "(5, 7, 8, 10) 1 {7}\n",
      "(5, 7, 8, 11) 1 {7}\n",
      "(5, 7, 9, 10) 2 {9, 7}\n",
      "(5, 7, 9, 11) 2 {9, 7}\n",
      "(5, 7, 10, 11) 1 {7}\n",
      "(5, 8, 9, 10) 1 {9}\n",
      "(5, 8, 9, 11) 1 {9}\n",
      "(5, 8, 10, 11) 0 set()\n",
      "(5, 9, 10, 11) 1 {9}\n",
      "(6, 7, 8, 9) 3 {9, 6, 7}\n",
      "(6, 7, 8, 10) 2 {6, 7}\n",
      "(6, 7, 8, 11) 2 {6, 7}\n",
      "(6, 7, 9, 10) 3 {9, 6, 7}\n",
      "(6, 7, 9, 11) 3 {9, 6, 7}\n",
      "(6, 7, 10, 11) 2 {6, 7}\n",
      "(6, 8, 9, 10) 2 {9, 6}\n",
      "(6, 8, 9, 11) 2 {9, 6}\n",
      "(6, 8, 10, 11) 1 {6}\n",
      "(6, 9, 10, 11) 2 {9, 6}\n",
      "(7, 8, 9, 10) 2 {9, 7}\n",
      "(7, 8, 9, 11) 2 {9, 7}\n",
      "(7, 8, 10, 11) 1 {7}\n",
      "(7, 9, 10, 11) 2 {9, 7}\n",
      "(8, 9, 10, 11) 1 {9}\n"
     ]
    }
   ],
   "source": [
    "# Calculate the overlaps between each element of comb_cups and labels_milk.\n",
    "\n",
    "overlaps = []\n",
    "\n",
    "# Loop through the combinations.\n",
    "for i in comb_cups:\n",
    "  # Turn i into a set.\n",
    "  s1 = set(i)\n",
    "  # Turn labels_milk into a set.\n",
    "  s2 = set(labels_milk)\n",
    "  # Figure out where they overlap.\n",
    "  overlap = s1.intersection(s2)\n",
    "  # Show the combination and the overlap.\n",
    "  print(i, len(overlap), overlap)\n",
    "  # Append overlap to overlaps.\n",
    "  overlaps.append(len(overlap))"
   ]
  },
  {
   "cell_type": "code",
   "execution_count": 17,
   "id": "c3e9e1b4",
   "metadata": {},
   "outputs": [
    {
     "name": "stdout",
     "output_type": "stream",
     "text": [
      "[1, 1, 1, 2, 2, 1, 2, 1, 1, 1, 1, 2, 2, 1, 2, 1, 1, 1, 2, 2, 1, 2, 1, 1, 2, 2, 1, 2, 1, 1, 3, 2, 3, 2, 2, 2, 3, 2, 2, 2, 1, 1, 2, 2, 1, 1, 1, 2, 2, 1, 2, 1, 1, 1, 2, 2, 1, 2, 1, 1, 2, 2, 1, 2, 1, 1, 3, 2, 3, 2, 2, 2, 3, 2, 2, 2, 1, 1, 2, 2, 1, 1, 2, 2, 1, 2, 1, 1, 2, 2, 1, 2, 1, 1, 3, 2, 3, 2, 2, 2, 3, 2, 2, 2, 1, 1, 2, 2, 1, 2, 2, 1, 2, 1, 1, 3, 2, 3, 2, 2, 2, 3, 2, 2, 2, 1, 1, 2, 2, 1, 3, 2, 3, 2, 2, 2, 3, 2, 2, 2, 1, 1, 2, 2, 1, 3, 4, 3, 3, 3, 2, 2, 3, 3, 2, 3, 2, 2, 3, 3, 2, 2, 2, 1, 2, 0, 0, 1, 1, 0, 1, 0, 0, 0, 1, 1, 0, 1, 0, 0, 1, 1, 0, 1, 0, 0, 2, 1, 2, 1, 1, 1, 2, 1, 1, 1, 0, 0, 1, 1, 0, 0, 1, 1, 0, 1, 0, 0, 1, 1, 0, 1, 0, 0, 2, 1, 2, 1, 1, 1, 2, 1, 1, 1, 0, 0, 1, 1, 0, 1, 1, 0, 1, 0, 0, 2, 1, 2, 1, 1, 1, 2, 1, 1, 1, 0, 0, 1, 1, 0, 2, 1, 2, 1, 1, 1, 2, 1, 1, 1, 0, 0, 1, 1, 0, 2, 3, 2, 2, 2, 1, 1, 2, 2, 1, 2, 1, 1, 2, 2, 1, 1, 1, 0, 1, 0, 1, 1, 0, 1, 0, 0, 1, 1, 0, 1, 0, 0, 2, 1, 2, 1, 1, 1, 2, 1, 1, 1, 0, 0, 1, 1, 0, 1, 1, 0, 1, 0, 0, 2, 1, 2, 1, 1, 1, 2, 1, 1, 1, 0, 0, 1, 1, 0, 2, 1, 2, 1, 1, 1, 2, 1, 1, 1, 0, 0, 1, 1, 0, 2, 3, 2, 2, 2, 1, 1, 2, 2, 1, 2, 1, 1, 2, 2, 1, 1, 1, 0, 1, 1, 1, 0, 1, 0, 0, 2, 1, 2, 1, 1, 1, 2, 1, 1, 1, 0, 0, 1, 1, 0, 2, 1, 2, 1, 1, 1, 2, 1, 1, 1, 0, 0, 1, 1, 0, 2, 3, 2, 2, 2, 1, 1, 2, 2, 1, 2, 1, 1, 2, 2, 1, 1, 1, 0, 1, 2, 1, 2, 1, 1, 1, 2, 1, 1, 1, 0, 0, 1, 1, 0, 2, 3, 2, 2, 2, 1, 1, 2, 2, 1, 2, 1, 1, 2, 2, 1, 1, 1, 0, 1, 2, 3, 2, 2, 2, 1, 1, 2, 2, 1, 2, 1, 1, 2, 2, 1, 1, 1, 0, 1, 3, 2, 2, 3, 3, 2, 2, 2, 1, 2, 2, 2, 1, 2, 1]\n"
     ]
    }
   ],
   "source": [
    "# Show the overlaps.\n",
    "print(overlaps)"
   ]
  },
  {
   "cell_type": "code",
   "execution_count": null,
   "id": "33d1674b",
   "metadata": {},
   "outputs": [
    {
     "data": {
      "text/plain": [
       "(array([0, 1, 2, 3, 4]), array([ 70, 224, 168,  32,   1]))"
      ]
     },
     "execution_count": 18,
     "metadata": {},
     "output_type": "execute_result"
    }
   ],
   "source": [
    "# Count the number of times each overlap occurs.\n",
    "counts = np.unique(overlaps, return_counts=True)\n",
    "\n",
    "# Show.\n",
    "counts\n"
   ]
  },
  {
   "cell_type": "code",
   "execution_count": 24,
   "id": "d4f8cf90",
   "metadata": {},
   "outputs": [
    {
     "data": {
      "image/png": "[encoded data removed]",
      "text/plain": [
       "<Figure size 600x400 with 1 Axes>"
      ]
     },
     "metadata": {},
     "output_type": "display_data"
    }
   ],
   "source": [
    "# Create a figure.\n",
    "fig, ax = plt.subplots(figsize=(6, 4))\n",
    "\n",
    "bars = ax.bar(counts[0], counts[1])\n",
    "\n",
    "# Add labels on top of bars.\n",
    "for bar in bars:\n",
    "    height = bar.get_height()\n",
    "    ax.text(\n",
    "        bar.get_x() + bar.get_width() / 2,  # x position\n",
    "        height,                             # y position\n",
    "        f'{height:.0f}',                    # label text\n",
    "        ha='center', va='bottom', fontsize=9\n",
    "    )\n",
    "\n",
    "ax.set_xlabel(\"Chances of Milk-First Cups\")\n",
    "ax.set_ylabel(\"Counts\")\n",
    "ax.set_title(\"Distribution of Milk-First Cups\")\n",
    "plt.xticks(rotation=0)\n",
    "plt.tight_layout()\n",
    "plt.show()\n"
   ]
  },
  {
   "cell_type": "markdown",
   "id": "6cf3a4e1",
   "metadata": {},
   "source": [
    "## Problem 2: Normal Distribution"
   ]
  },
  {
   "cell_type": "code",
   "execution_count": null,
   "id": "5a32275a",
   "metadata": {},
   "outputs": [],
   "source": []
  },
  {
   "cell_type": "markdown",
   "id": "b7df9075",
   "metadata": {},
   "source": [
    "## Problem 3: t-Tests"
   ]
  },
  {
   "cell_type": "code",
   "execution_count": null,
   "id": "49266135",
   "metadata": {},
   "outputs": [],
   "source": []
  },
  {
   "cell_type": "markdown",
   "id": "b2dae06d",
   "metadata": {},
   "source": [
    "## Problem 4: ANOVA"
   ]
  },
  {
   "cell_type": "code",
   "execution_count": null,
   "id": "7eb267e1",
   "metadata": {},
   "outputs": [],
   "source": []
  },
  {
   "cell_type": "markdown",
   "id": "ddc5e72c",
   "metadata": {},
   "source": [
    "***\n",
    "# End"
   ]
  }
 ],
 "metadata": {
  "kernelspec": {
   "display_name": "base",
   "language": "python",
   "name": "python3"
  },
  "language_info": {
   "codemirror_mode": {
    "name": "ipython",
    "version": 3
   },
   "file_extension": ".py",
   "mimetype": "text/x-python",
   "name": "python",
   "nbconvert_exporter": "python",
   "pygments_lexer": "ipython3",
   "version": "3.12.4"
  }
 },
 "nbformat": 4,
 "nbformat_minor": 5
}
