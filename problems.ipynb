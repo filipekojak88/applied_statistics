{
 "cells": [
  {
   "cell_type": "markdown",
   "id": "52bf1c91",
   "metadata": {},
   "source": [
    "# Problems\n",
    "***"
   ]
  },
  {
   "cell_type": "markdown",
   "id": "7a2abf97",
   "metadata": {},
   "source": [
    "This Jupyter Notebook contains the assessment for the module of Applied Statistics taught by Ian McLoughlin. This assessment is composed by 4 problems which aim to demonstrate the skills acquired within this course."
   ]
  },
  {
   "cell_type": "code",
   "execution_count": 20,
   "id": "fb4b0655",
   "metadata": {},
   "outputs": [],
   "source": [
    "# Install all required libraries\n",
    "\n",
    "\"\"\"Numerical structures and operations.\n",
    "https://numpy.org/doc/stable/reference/index.html#reference\"\"\"\n",
    "import numpy as np\n",
    "\n",
    "import scipy.stats as stats\n",
    "import statsmodels.api as sm\n",
    "\n",
    "\"\"\"Plotting.\n",
    "https://matplotlib.org/stable/contents.html\"\"\"\n",
    "import matplotlib.pyplot as plt\n",
    "\n",
    "import pandas as pd\n",
    "import seaborn as sns\n",
    "\n",
    "# From Python Standard Library:\n",
    "\n",
    "\"\"\"Mathematical functions\n",
    "https://docs.python.org/3/library/math.html\"\"\"\n",
    "import math\n",
    "\n",
    "\"\"\"Permutations and combinations \n",
    "https://docs.python.org/3/library/itertools.html\"\"\"\n",
    "import itertools\n",
    "\n",
    "\"\"\"Random selections\n",
    "https://docs.python.org/3/library/random.html\"\"\"\n",
    "import random\n",
    "\n",
    "\n",
    "\n",
    "# import sympy as sp\n",
    "# from nose import with_setup, tools\n",
    "# from sklearn import datasets\n",
    "# from qiskit import QuantumCircuit, transpile, assemble, Aer, execute\n",
    "# from qiskit.visualization import plot_histogram\n",
    "# import yfinance as yf"
   ]
  },
  {
   "cell_type": "markdown",
   "id": "713f4134",
   "metadata": {},
   "source": [
    "## Problem 1: Extending the Lady Tasting Tea\n"
   ]
  },
  {
   "cell_type": "markdown",
   "id": "264f213c",
   "metadata": {},
   "source": [
    "The first problem is an extension of the Lady Tasting Tea experiment conducted by Ronald Fisher and reported in his book The Design of Experiment in 1935.\n",
    "Before explaining the extension of this experiment, here it is a brief introduction of the Lady Tasting Tea experiment conducted by Fisher:\n",
    "The Lady Tasting Tea experiment, designed by Fisher, tested a woman’s claim that she could tell whether milk or tea was poured first into a cup. To evaluate this, Fisher used a hypothesis testing approach: under the null hypothesis, her guesses would be random, while the alternative assumed real ability. She was given eight cups (four of each type) in random order to identify. Fisher calculated the probability of correctly identifying all by chance as 1 in 70, showing that such an outcome would provide strong evidence against the null hypothesis. This experiment became a foundational example of statistical hypothesis testing and experimental design. The following Wikipedia link was used to obtain further details of the Lady Tasting Tea experiment conducted by Fisher: [Lady Tasting tea](https://en.wikipedia.org/wiki/Lady_tasting_tea).\n",
    "\n",
    "While in the original Lady Tasting Tea experiment Fisher used 8 cups: 4 tea-first and 4 mil-first, in this extension of the Lady Tasting Tea experiment it is being adopted 12 cups: 8 tea-first and 4 milk-first. It follows the same claim where a participant says they can tell which was poured first. The experiment is simulated using numpy to randomly shuffling the cups a number of times and calculate the probability of the participat correctly identifying all cups by chance. \n",
    "Furthermore, a comparison is made between the original Lady Tasting tea experiment and this extension.\n",
    "The aim of this extension is not only to explore how changing the experimental design—from 8 cups (4 of each type) to 12 cups (8 tea-first and 4 milk-first)—affects the probability of correctly identifying all cups by chance, but also to demonstrate how statistical simulation can be implemented using Python. By employing tools such as NumPy to randomly shuffle cup arrangements and compute probabilities across multiple trials, this extension illustrates how programming can be used to replicate and analyse classical experiments. Through this process, it becomes possible to visualise and quantify how modifications in sample size or cup proportions influence the statistical evidence against the null hypothesis.\n"
   ]
  },
  {
   "cell_type": "markdown",
   "id": "5184564f",
   "metadata": {},
   "source": [
    "### Cups of Tea\n",
    "\n",
    "In order to complete this in python, we first define the variables of each group in order to keep track of the tea preparation options as well as the group containing all cups."
   ]
  },
  {
   "cell_type": "code",
   "execution_count": 21,
   "id": "a5a3eab8",
   "metadata": {},
   "outputs": [],
   "source": [
    "# Number of cups of tea in total\n",
    "all_cups = 12\n",
    "\n",
    "# Number of cups of tea with milk added first\n",
    "milk_first_cups = 4\n",
    "\n",
    "# Number of cups of tea with tea added first\n",
    "tea_first_cups = 8"
   ]
  },
  {
   "cell_type": "markdown",
   "id": "51962f84",
   "metadata": {},
   "source": [
    "### Using the function math.comb(n,k)\n",
    "\n",
    "Now we use math.comb(m, k), which is a built-in Python function (introduced in Python 3.8) that comes from the math module. The [Python Standard Library](https://docs.python.org/3/library/math.html#math.comb) documentation regarding `math.comb(n, k)` was consulted to develop the work on this section. \n",
    "\n",
    "This function calculates how many ways to choose k elements from a set of n elements. Here, order of the elements does not matter. Each element is only selected once."
   ]
  },
  {
   "cell_type": "code",
   "execution_count": null,
   "id": "992d5fea",
   "metadata": {},
   "outputs": [
    {
     "data": {
      "text/plain": [
       "495"
      ]
     },
     "execution_count": 25,
     "metadata": {},
     "output_type": "execute_result"
    }
   ],
   "source": [
    "# Number of ways to choose 4 cups from 12\n",
    "ways = math.comb(all_cups, milk_first_cups)\n",
    "\n",
    "# Display the number of combinations\n",
    "ways"
   ]
  },
  {
   "cell_type": "markdown",
   "id": "e802ce2f",
   "metadata": {},
   "source": [
    "There were "
   ]
  },
  {
   "cell_type": "markdown",
   "id": "6cf3a4e1",
   "metadata": {},
   "source": [
    "## Problem 2: Normal Distribution"
   ]
  },
  {
   "cell_type": "code",
   "execution_count": null,
   "id": "5a32275a",
   "metadata": {},
   "outputs": [],
   "source": []
  },
  {
   "cell_type": "markdown",
   "id": "b7df9075",
   "metadata": {},
   "source": [
    "## Problem 3: t-Tests"
   ]
  },
  {
   "cell_type": "code",
   "execution_count": null,
   "id": "49266135",
   "metadata": {},
   "outputs": [],
   "source": []
  },
  {
   "cell_type": "markdown",
   "id": "b2dae06d",
   "metadata": {},
   "source": [
    "## Problem 4: ANOVA"
   ]
  },
  {
   "cell_type": "code",
   "execution_count": null,
   "id": "7eb267e1",
   "metadata": {},
   "outputs": [],
   "source": []
  },
  {
   "cell_type": "markdown",
   "id": "ddc5e72c",
   "metadata": {},
   "source": [
    "***\n",
    "# End"
   ]
  }
 ],
 "metadata": {
  "kernelspec": {
   "display_name": "base",
   "language": "python",
   "name": "python3"
  },
  "language_info": {
   "codemirror_mode": {
    "name": "ipython",
    "version": 3
   },
   "file_extension": ".py",
   "mimetype": "text/x-python",
   "name": "python",
   "nbconvert_exporter": "python",
   "pygments_lexer": "ipython3",
   "version": "3.12.4"
  }
 },
 "nbformat": 4,
 "nbformat_minor": 5
}
