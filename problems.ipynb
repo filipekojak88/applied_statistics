{
 "cells": [
  {
   "cell_type": "markdown",
   "id": "52bf1c91",
   "metadata": {},
   "source": [
    "# Problems\n",
    "***"
   ]
  },
  {
   "cell_type": "markdown",
   "id": "7a2abf97",
   "metadata": {},
   "source": [
    "This Jupyter Notebook contains the assessment for the module of Applied Statistics taught by Ian McLoughlin. This assessment is composed by 4 problems which aim to demonstrate the skills acquired within this course."
   ]
  },
  {
   "cell_type": "code",
   "execution_count": null,
   "id": "4efd05b2",
   "metadata": {
    "vscode": {
     "languageId": "plaintext"
    }
   },
   "outputs": [],
   "source": []
  }
 ],
 "metadata": {
  "language_info": {
   "name": "python"
  }
 },
 "nbformat": 4,
 "nbformat_minor": 5
}
